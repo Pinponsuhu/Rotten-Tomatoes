{
 "cells": [
  {
   "cell_type": "code",
   "execution_count": 73,
   "metadata": {},
   "outputs": [
    {
     "name": "stdout",
     "output_type": "stream",
     "text": [
      "Requirement already satisfied: pandas in /Library/Frameworks/Python.framework/Versions/3.12/lib/python3.12/site-packages (2.2.2)\n",
      "Requirement already satisfied: numpy>=1.26.0 in /Library/Frameworks/Python.framework/Versions/3.12/lib/python3.12/site-packages (from pandas) (1.26.4)\n",
      "Requirement already satisfied: python-dateutil>=2.8.2 in /Users/mac/Library/Python/3.12/lib/python/site-packages (from pandas) (2.9.0.post0)\n",
      "Requirement already satisfied: pytz>=2020.1 in /Library/Frameworks/Python.framework/Versions/3.12/lib/python3.12/site-packages (from pandas) (2024.1)\n",
      "Requirement already satisfied: tzdata>=2022.7 in /Library/Frameworks/Python.framework/Versions/3.12/lib/python3.12/site-packages (from pandas) (2024.1)\n",
      "Requirement already satisfied: six>=1.5 in /Users/mac/Library/Python/3.12/lib/python/site-packages (from python-dateutil>=2.8.2->pandas) (1.16.0)\n",
      "Note: you may need to restart the kernel to use updated packages.\n",
      "Requirement already satisfied: numpy in /Library/Frameworks/Python.framework/Versions/3.12/lib/python3.12/site-packages (1.26.4)\n"
     ]
    },
    {
     "name": "stdout",
     "output_type": "stream",
     "text": [
      "Note: you may need to restart the kernel to use updated packages.\n",
      "Requirement already satisfied: beautifulsoup4 in /Library/Frameworks/Python.framework/Versions/3.12/lib/python3.12/site-packages (4.12.3)\n",
      "Requirement already satisfied: soupsieve>1.2 in /Library/Frameworks/Python.framework/Versions/3.12/lib/python3.12/site-packages (from beautifulsoup4) (2.5)\n",
      "Note: you may need to restart the kernel to use updated packages.\n",
      "Requirement already satisfied: requests in /Library/Frameworks/Python.framework/Versions/3.12/lib/python3.12/site-packages (2.26.0)\n",
      "Requirement already satisfied: urllib3<1.27,>=1.21.1 in /Library/Frameworks/Python.framework/Versions/3.12/lib/python3.12/site-packages (from requests) (1.26.18)\n",
      "Requirement already satisfied: certifi>=2017.4.17 in /Library/Frameworks/Python.framework/Versions/3.12/lib/python3.12/site-packages (from requests) (2024.2.2)\n",
      "Requirement already satisfied: charset-normalizer~=2.0.0 in /Library/Frameworks/Python.framework/Versions/3.12/lib/python3.12/site-packages (from requests) (2.0.12)\n",
      "Requirement already satisfied: idna<4,>=2.5 in /Library/Frameworks/Python.framework/Versions/3.12/lib/python3.12/site-packages (from requests) (3.6)\n",
      "Note: you may need to restart the kernel to use updated packages.\n"
     ]
    }
   ],
   "source": [
    "%pip install pandas\n",
    "%pip install numpy\n",
    "%pip install beautifulsoup4\n",
    "%pip install requests"
   ]
  },
  {
   "cell_type": "code",
   "execution_count": 74,
   "metadata": {},
   "outputs": [],
   "source": [
    "import pandas as pd\n",
    "import requests\n",
    "from bs4 import BeautifulSoup\n",
    "import numpy as np"
   ]
  },
  {
   "cell_type": "markdown",
   "metadata": {},
   "source": [
    "### Making a get request to rotten tomatoes"
   ]
  },
  {
   "cell_type": "code",
   "execution_count": 76,
   "metadata": {},
   "outputs": [],
   "source": [
    "url = 'https://www.rottentomatoes.com/'\n",
    "get_req = requests.get(url)\n",
    "html_body = get_req.text"
   ]
  },
  {
   "cell_type": "markdown",
   "metadata": {},
   "source": [
    "### Working with Beautiful Soup"
   ]
  },
  {
   "cell_type": "code",
   "execution_count": 77,
   "metadata": {},
   "outputs": [],
   "source": [
    "soup = BeautifulSoup(html_body, 'html.parser')\n",
    "sections = soup.find_all('section')\n"
   ]
  },
  {
   "cell_type": "markdown",
   "metadata": {},
   "source": [
    "### Looping through section to find section of interest"
   ]
  },
  {
   "cell_type": "code",
   "execution_count": 80,
   "metadata": {},
   "outputs": [
    {
     "name": "stdout",
     "output_type": "stream",
     "text": [
      "2\n"
     ]
    }
   ],
   "source": [
    "for i,s in enumerate(sections):\n",
    "    h2_tag = s.find('h2')\n",
    "    if h2_tag:\n",
    "        if h2_tag.string == f\"NEW & UPCOMING MOVIES IN THEATERS\".lower():\n",
    "            section_index = i\n",
    "            break\n",
    "            \n",
    "print(section_index)            "
   ]
  },
  {
   "cell_type": "markdown",
   "metadata": {},
   "source": [
    "### Working to display section of interest and storing the data we're interested in in a map"
   ]
  },
  {
   "cell_type": "code",
   "execution_count": 81,
   "metadata": {},
   "outputs": [],
   "source": [
    "movies = {\n",
    "    'name' : [], \n",
    "    'images' : [],\n",
    "    'rating': []\n",
    "}\n",
    "\n",
    "for i in sections[section_index].select('a .p--small'):\n",
    "    movies['name'].append(i.string)\n",
    "\n",
    "for i in sections[section_index].select('rt-img'):\n",
    "    movies['images'].append(i.attrs['src'])  \n",
    "for i in sections[section_index].select('a score-pairs-deprecated'):\n",
    "    movies['rating'].append(i.attrs['criticsscore'])  \n",
    "\n",
    "    "
   ]
  },
  {
   "cell_type": "code",
   "execution_count": 82,
   "metadata": {},
   "outputs": [],
   "source": [
    "df = pd.DataFrame(movies)\n",
    "#convert rating column from str(object) to float\n",
    "df['rating'] = pd.to_numeric(df['rating'],errors='coerce')\n"
   ]
  },
  {
   "cell_type": "code",
   "execution_count": 83,
   "metadata": {},
   "outputs": [
    {
     "data": {
      "text/plain": [
       "(86, 3)"
      ]
     },
     "execution_count": 83,
     "metadata": {},
     "output_type": "execute_result"
    }
   ],
   "source": [
    "df.drop_duplicates(inplace=True)\n",
    "df.drop(df['rating'].isna().sum(), inplace=True)\n",
    "df.shape"
   ]
  },
  {
   "cell_type": "markdown",
   "metadata": {},
   "source": [
    "### Top Ten Highest Rated movies"
   ]
  },
  {
   "cell_type": "code",
   "execution_count": 85,
   "metadata": {},
   "outputs": [
    {
     "data": {
      "text/html": [
       "<div>\n",
       "<style scoped>\n",
       "    .dataframe tbody tr th:only-of-type {\n",
       "        vertical-align: middle;\n",
       "    }\n",
       "\n",
       "    .dataframe tbody tr th {\n",
       "        vertical-align: top;\n",
       "    }\n",
       "\n",
       "    .dataframe thead th {\n",
       "        text-align: right;\n",
       "    }\n",
       "</style>\n",
       "<table border=\"1\" class=\"dataframe\">\n",
       "  <thead>\n",
       "    <tr style=\"text-align: right;\">\n",
       "      <th></th>\n",
       "      <th>name</th>\n",
       "      <th>images</th>\n",
       "      <th>rating</th>\n",
       "    </tr>\n",
       "  </thead>\n",
       "  <tbody>\n",
       "    <tr>\n",
       "      <th>23</th>\n",
       "      <td>Evil</td>\n",
       "      <td>https://resizing.flixster.com/IHH7WdK3PmFjhhF5...</td>\n",
       "      <td>100.0</td>\n",
       "    </tr>\n",
       "    <tr>\n",
       "      <th>101</th>\n",
       "      <td>A Brighter Summer Day</td>\n",
       "      <td>https://resizing.flixster.com/LU9FpomFEKPzlhlm...</td>\n",
       "      <td>100.0</td>\n",
       "    </tr>\n",
       "    <tr>\n",
       "      <th>80</th>\n",
       "      <td>LaRoy, Texas</td>\n",
       "      <td>https://resizing.flixster.com/Plm14ATMekCMgi6k...</td>\n",
       "      <td>100.0</td>\n",
       "    </tr>\n",
       "    <tr>\n",
       "      <th>87</th>\n",
       "      <td>Nowhere Special</td>\n",
       "      <td>https://resizing.flixster.com/2aSReQ3wORLcrl1P...</td>\n",
       "      <td>100.0</td>\n",
       "    </tr>\n",
       "    <tr>\n",
       "      <th>34</th>\n",
       "      <td>Them</td>\n",
       "      <td>https://resizing.flixster.com/661wyDIDSF7DRgBn...</td>\n",
       "      <td>100.0</td>\n",
       "    </tr>\n",
       "    <tr>\n",
       "      <th>93</th>\n",
       "      <td>Seven Samurai</td>\n",
       "      <td>https://resizing.flixster.com/fsIHET3BY_Zb2Awb...</td>\n",
       "      <td>100.0</td>\n",
       "    </tr>\n",
       "    <tr>\n",
       "      <th>35</th>\n",
       "      <td>Welcome to Wrexham</td>\n",
       "      <td>https://resizing.flixster.com/01aVGghLRpsKICRk...</td>\n",
       "      <td>100.0</td>\n",
       "    </tr>\n",
       "    <tr>\n",
       "      <th>28</th>\n",
       "      <td>X-Men '97</td>\n",
       "      <td>https://resizing.flixster.com/4BVOdUDKUZZFYYTc...</td>\n",
       "      <td>99.0</td>\n",
       "    </tr>\n",
       "    <tr>\n",
       "      <th>26</th>\n",
       "      <td>Interview With the Vampire</td>\n",
       "      <td>https://resizing.flixster.com/ltCwyDCY-pZ2W-5R...</td>\n",
       "      <td>98.0</td>\n",
       "    </tr>\n",
       "    <tr>\n",
       "      <th>75</th>\n",
       "      <td>A House Made of Splinters</td>\n",
       "      <td>https://resizing.flixster.com/EulUt6IdZZ33xu9b...</td>\n",
       "      <td>98.0</td>\n",
       "    </tr>\n",
       "  </tbody>\n",
       "</table>\n",
       "</div>"
      ],
      "text/plain": [
       "                           name  \\\n",
       "23                         Evil   \n",
       "101       A Brighter Summer Day   \n",
       "80                 LaRoy, Texas   \n",
       "87              Nowhere Special   \n",
       "34                         Them   \n",
       "93                Seven Samurai   \n",
       "35           Welcome to Wrexham   \n",
       "28                    X-Men '97   \n",
       "26   Interview With the Vampire   \n",
       "75    A House Made of Splinters   \n",
       "\n",
       "                                                images  rating  \n",
       "23   https://resizing.flixster.com/IHH7WdK3PmFjhhF5...   100.0  \n",
       "101  https://resizing.flixster.com/LU9FpomFEKPzlhlm...   100.0  \n",
       "80   https://resizing.flixster.com/Plm14ATMekCMgi6k...   100.0  \n",
       "87   https://resizing.flixster.com/2aSReQ3wORLcrl1P...   100.0  \n",
       "34   https://resizing.flixster.com/661wyDIDSF7DRgBn...   100.0  \n",
       "93   https://resizing.flixster.com/fsIHET3BY_Zb2Awb...   100.0  \n",
       "35   https://resizing.flixster.com/01aVGghLRpsKICRk...   100.0  \n",
       "28   https://resizing.flixster.com/4BVOdUDKUZZFYYTc...    99.0  \n",
       "26   https://resizing.flixster.com/ltCwyDCY-pZ2W-5R...    98.0  \n",
       "75   https://resizing.flixster.com/EulUt6IdZZ33xu9b...    98.0  "
      ]
     },
     "execution_count": 85,
     "metadata": {},
     "output_type": "execute_result"
    }
   ],
   "source": [
    "df.sort_values(by='rating', ascending=False).head(10)"
   ]
  },
  {
   "cell_type": "markdown",
   "metadata": {},
   "source": [
    "### Bottom 10 Lowest rated movies"
   ]
  },
  {
   "cell_type": "code",
   "execution_count": 86,
   "metadata": {},
   "outputs": [
    {
     "data": {
      "text/html": [
       "<div>\n",
       "<style scoped>\n",
       "    .dataframe tbody tr th:only-of-type {\n",
       "        vertical-align: middle;\n",
       "    }\n",
       "\n",
       "    .dataframe tbody tr th {\n",
       "        vertical-align: top;\n",
       "    }\n",
       "\n",
       "    .dataframe thead th {\n",
       "        text-align: right;\n",
       "    }\n",
       "</style>\n",
       "<table border=\"1\" class=\"dataframe\">\n",
       "  <thead>\n",
       "    <tr style=\"text-align: right;\">\n",
       "      <th></th>\n",
       "      <th>name</th>\n",
       "      <th>images</th>\n",
       "      <th>rating</th>\n",
       "    </tr>\n",
       "  </thead>\n",
       "  <tbody>\n",
       "    <tr>\n",
       "      <th>14</th>\n",
       "      <td>Not Another Church Movie</td>\n",
       "      <td>https://resizing.flixster.com/u4kT3aBkP9LdcHq2...</td>\n",
       "      <td>11.0</td>\n",
       "    </tr>\n",
       "    <tr>\n",
       "      <th>5</th>\n",
       "      <td>The Strangers: Chapter 1</td>\n",
       "      <td>https://resizing.flixster.com/GfA-jUJTDfaI5VLY...</td>\n",
       "      <td>20.0</td>\n",
       "    </tr>\n",
       "    <tr>\n",
       "      <th>18</th>\n",
       "      <td>Tarot</td>\n",
       "      <td>https://resizing.flixster.com/yFF-y5yZ6-7Wv6d5...</td>\n",
       "      <td>20.0</td>\n",
       "    </tr>\n",
       "    <tr>\n",
       "      <th>16</th>\n",
       "      <td>Poolman</td>\n",
       "      <td>https://resizing.flixster.com/Ip73-zdzCyXcRLAv...</td>\n",
       "      <td>22.0</td>\n",
       "    </tr>\n",
       "    <tr>\n",
       "      <th>10</th>\n",
       "      <td>Back to Black</td>\n",
       "      <td>https://resizing.flixster.com/TlbUCBj4PMtmgO9k...</td>\n",
       "      <td>34.0</td>\n",
       "    </tr>\n",
       "    <tr>\n",
       "      <th>1</th>\n",
       "      <td>The Garfield Movie</td>\n",
       "      <td>https://resizing.flixster.com/8830tX2h1RGoUyDn...</td>\n",
       "      <td>37.0</td>\n",
       "    </tr>\n",
       "    <tr>\n",
       "      <th>53</th>\n",
       "      <td>Ghostbusters: Frozen Empire</td>\n",
       "      <td>https://resizing.flixster.com/YM6QHIYrvS4SeGci...</td>\n",
       "      <td>43.0</td>\n",
       "    </tr>\n",
       "    <tr>\n",
       "      <th>47</th>\n",
       "      <td>Godzilla x Kong: The New Empire</td>\n",
       "      <td>https://resizing.flixster.com/CcYVznD9uHiBUV80...</td>\n",
       "      <td>54.0</td>\n",
       "    </tr>\n",
       "    <tr>\n",
       "      <th>19</th>\n",
       "      <td>Unsung Hero</td>\n",
       "      <td>https://resizing.flixster.com/sUvzOOUhjn6v_Wrn...</td>\n",
       "      <td>59.0</td>\n",
       "    </tr>\n",
       "    <tr>\n",
       "      <th>3</th>\n",
       "      <td>Sight</td>\n",
       "      <td>https://resizing.flixster.com/CYN1PKYpAMSqgJiw...</td>\n",
       "      <td>63.0</td>\n",
       "    </tr>\n",
       "  </tbody>\n",
       "</table>\n",
       "</div>"
      ],
      "text/plain": [
       "                               name  \\\n",
       "14         Not Another Church Movie   \n",
       "5          The Strangers: Chapter 1   \n",
       "18                            Tarot   \n",
       "16                          Poolman   \n",
       "10                    Back to Black   \n",
       "1                The Garfield Movie   \n",
       "53      Ghostbusters: Frozen Empire   \n",
       "47  Godzilla x Kong: The New Empire   \n",
       "19                      Unsung Hero   \n",
       "3                             Sight   \n",
       "\n",
       "                                               images  rating  \n",
       "14  https://resizing.flixster.com/u4kT3aBkP9LdcHq2...    11.0  \n",
       "5   https://resizing.flixster.com/GfA-jUJTDfaI5VLY...    20.0  \n",
       "18  https://resizing.flixster.com/yFF-y5yZ6-7Wv6d5...    20.0  \n",
       "16  https://resizing.flixster.com/Ip73-zdzCyXcRLAv...    22.0  \n",
       "10  https://resizing.flixster.com/TlbUCBj4PMtmgO9k...    34.0  \n",
       "1   https://resizing.flixster.com/8830tX2h1RGoUyDn...    37.0  \n",
       "53  https://resizing.flixster.com/YM6QHIYrvS4SeGci...    43.0  \n",
       "47  https://resizing.flixster.com/CcYVznD9uHiBUV80...    54.0  \n",
       "19  https://resizing.flixster.com/sUvzOOUhjn6v_Wrn...    59.0  \n",
       "3   https://resizing.flixster.com/CYN1PKYpAMSqgJiw...    63.0  "
      ]
     },
     "execution_count": 86,
     "metadata": {},
     "output_type": "execute_result"
    }
   ],
   "source": [
    "df.sort_values(by='rating').head(10)"
   ]
  },
  {
   "cell_type": "code",
   "execution_count": 88,
   "metadata": {},
   "outputs": [
    {
     "data": {
      "text/plain": [
       "<Axes: xlabel='Name', ylabel='Rating'>"
      ]
     },
     "execution_count": 88,
     "metadata": {},
     "output_type": "execute_result"
    },
    {
     "data": {
      "image/png": "[encoded data removed]",
      "text/plain": [
       "<Figure size 640x480 with 1 Axes>"
      ]
     },
     "metadata": {},
     "output_type": "display_data"
    }
   ],
   "source": [
    "df[df['name'].str.startswith('A')].plot(kind='scatter',x='name',y='rating', ylabel='Rating', xlabel='Name')"
   ]
  },
  {
   "cell_type": "code",
   "execution_count": null,
   "metadata": {},
   "outputs": [],
   "source": []
  }
 ],
 "metadata": {
  "kernelspec": {
   "display_name": "Python 3",
   "language": "python",
   "name": "python3"
  },
  "language_info": {
   "codemirror_mode": {
    "name": "ipython",
    "version": 3
   },
   "file_extension": ".py",
   "mimetype": "text/x-python",
   "name": "python",
   "nbconvert_exporter": "python",
   "pygments_lexer": "ipython3",
   "version": "3.12.2"
  }
 },
 "nbformat": 4,
 "nbformat_minor": 2
}
